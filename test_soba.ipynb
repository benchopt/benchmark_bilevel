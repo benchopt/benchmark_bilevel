{
 "cells": [
  {
   "cell_type": "code",
   "execution_count": 1,
   "metadata": {},
   "outputs": [],
   "source": [
    "import numpy as np\n",
    "from sklearn.utils import check_random_state\n",
    "from sklearn.model_selection import train_test_split\n",
    "\n",
    "import matplotlib.pyplot as plt\n",
    "\n",
    "%matplotlib qt\n",
    "\n",
    "fontsize = 13\n",
    "params = {'axes.labelsize': fontsize + 2,\n",
    "      'font.size': fontsize + 2,\n",
    "      'legend.fontsize': fontsize,\n",
    "      'xtick.labelsize': fontsize,\n",
    "      'ytick.labelsize': fontsize,\n",
    "      'text.usetex': True}\n",
    "plt.rcParams.update(params)"
   ]
  },
  {
   "cell_type": "code",
   "execution_count": 2,
   "metadata": {},
   "outputs": [],
   "source": [
    "def get_data(n_samples=100, n_features=2, sigma=1e-1, sigma_X=1e-2,\n",
    "             random_state=1):\n",
    "\n",
    "    rng = check_random_state(random_state)\n",
    "    u = rng.randn(n_samples, 1)\n",
    "    u /= np.linalg.norm(u)\n",
    "    X = u + sigma_X * rng.randn(n_samples, n_features)\n",
    "\n",
    "    theta = rng.randn(n_features)\n",
    "    y = X@theta + sigma * rng.randn(n_samples)\n",
    "\n",
    "    X_train, X_test, y_train, y_test = train_test_split(\n",
    "        X, y, random_state=rng\n",
    "    )\n",
    "\n",
    "    return X_train, y_train, X_test, y_test, rng"
   ]
  },
  {
   "cell_type": "code",
   "execution_count": 3,
   "metadata": {},
   "outputs": [],
   "source": [
    "def soba(X_train, y_train, X_test, y_test, z0=None, v0=None, x0=None, \n",
    "         max_iter=100_000, step_size_in=1., outer_ratio=.01, \n",
    "         adaptative_step_size=1, alpha=1):\n",
    "    n_train, n_features = X_train.shape\n",
    "    n_test = X_test.shape[0]\n",
    "    L = np.linalg.norm(X_train, ord=2)**2 / X_train.shape[0]\n",
    "    H = X_train.T.dot(X_train)/n_train\n",
    "\n",
    "    z = z0\n",
    "    v = v0\n",
    "    x = x0\n",
    "    step_size_out = step_size_in / outer_ratio\n",
    "\n",
    "    z_list, v_list, x_list = [], [], []\n",
    "    for k in range(max_iter):\n",
    "        grad_in_z = X_train.T.dot(X_train @ z - y_train) / n_train + np.exp(x) * z\n",
    "        Hess = H + np.exp(x) * np.eye(n_features)\n",
    "        hvp = Hess @ v\n",
    "        cross_v = np.exp(x) * z * v\n",
    "\n",
    "        grad_out_z = X_test.T.dot(X_test @ z - y_test) / n_test\n",
    "        if adaptative_step_size == 1:\n",
    "            step_size_in = alpha / (L + np.exp(x).max())\n",
    "        elif adaptative_step_size == 2:\n",
    "            step_size_in = alpha / (L + np.exp(x))\n",
    "        z -= step_size_in * grad_in_z\n",
    "        v -= step_size_in * (hvp - grad_out_z)\n",
    "        x -= step_size_out * (- cross_v)\n",
    "\n",
    "        z_list.append(z.copy())\n",
    "        v_list.append(v.copy())\n",
    "        x_list.append(x.copy())\n",
    "    return np.array(z_list), np.array(v_list), np.array(x_list)"
   ]
  },
  {
   "cell_type": "code",
   "execution_count": 4,
   "metadata": {},
   "outputs": [],
   "source": [
    "def amigo(X_train, y_train, X_test, y_test, z0=None, v0=None, x0=None,\n",
    "          max_iter=100, n_inner_step=10, n_v_step=10,\n",
    "          step_size_in=1, outer_ratio=.01):\n",
    "    \n",
    "    n_train, n_features = X_train.shape\n",
    "    n_test = X_test.shape[0]\n",
    "\n",
    "    z = z0\n",
    "    v = v0\n",
    "    x = x0\n",
    "    step_size_out = step_size_in / outer_ratio\n",
    "    H = X_train.T.dot(X_train)/n_train\n",
    "\n",
    "    z_list, v_list, x_list = [], [], []\n",
    "    for _ in range(max_iter):\n",
    "\n",
    "        for _ in range(n_inner_step):\n",
    "            grad_in_z = X_train.T.dot(X_train @ z - y_train) / n_train + np.exp(x) * z\n",
    "            z -= step_size_in * grad_in_z\n",
    "\n",
    "        # compute SGD for the auxillary variable\n",
    "        for _ in range(n_v_step):\n",
    "            Hess = H + np.exp(x) * np.eye(n_features)\n",
    "            hvp = Hess @ v\n",
    "            grad_out_z = X_test.T.dot(X_test @ z - y_test) / n_test\n",
    "            v -= step_size_in * (hvp - grad_out_z)\n",
    "\n",
    "\n",
    "        cross_v = np.exp(x) * z * v\n",
    "        x -= step_size_out * (- cross_v)\n",
    "\n",
    "        z_list.append(z.copy())\n",
    "        v_list.append(v.copy())\n",
    "        x_list.append(x.copy())\n",
    "\n",
    "    return np.array(z_list), np.array(v_list), np.array(x_list)"
   ]
  },
  {
   "cell_type": "code",
   "execution_count": 5,
   "metadata": {},
   "outputs": [
    {
     "name": "stderr",
     "output_type": "stream",
     "text": [
      "<ipython-input-3-009f6bda3c97>:16: RuntimeWarning: overflow encountered in exp\n",
      "  grad_in_z = X_train.T.dot(X_train @ z - y_train) / n_train + np.exp(x) * z\n",
      "<ipython-input-3-009f6bda3c97>:17: RuntimeWarning: overflow encountered in exp\n",
      "  Hess = H + np.exp(x) * np.eye(n_features)\n",
      "<ipython-input-3-009f6bda3c97>:17: RuntimeWarning: invalid value encountered in multiply\n",
      "  Hess = H + np.exp(x) * np.eye(n_features)\n",
      "<ipython-input-3-009f6bda3c97>:19: RuntimeWarning: overflow encountered in exp\n",
      "  cross_v = np.exp(x) * z * v\n",
      "<ipython-input-3-009f6bda3c97>:26: RuntimeWarning: invalid value encountered in subtract\n",
      "  z -= step_size_in * grad_in_z\n",
      "<ipython-input-5-c356e3e15e30>:15: RuntimeWarning: overflow encountered in exp\n",
      "  z_star_list = np.array([np.linalg.solve(H + np.diag(np.exp(x)), X_train.T.dot(y_train) / X_train.shape[0]) for x in x_list])\n"
     ]
    }
   ],
   "source": [
    "n_samples, n_features = 100, 2\n",
    "max_iter = 100_000\n",
    "\n",
    "step_size_in = 1\n",
    "outer_ratio = .01\n",
    "\n",
    "X_train, y_train, X_test, y_test, rng = get_data(n_samples=n_samples, n_features=n_features, random_state=1)\n",
    "H = X_train.T.dot(X_train)/X_train.shape[0]\n",
    "\n",
    "rng = check_random_state(2442)\n",
    "z_list, v_list, x_list = soba(X_train, y_train, X_test, y_test, z0=rng.randn(n_features),\n",
    "                              v0=np.zeros(n_features), x0=np.log(rng.rand(n_features)), max_iter=max_iter,\n",
    "                              step_size_in=step_size_in, outer_ratio=outer_ratio, adaptative_step_size=False)\n",
    "\n",
    "z_star_list = np.array([np.linalg.solve(H + np.diag(np.exp(x)), X_train.T.dot(y_train) / X_train.shape[0]) for x in x_list])\n",
    "v_star_list = np.array([np.linalg.solve(H + np.diag(np.exp(x)), X_test.T.dot(X_test@z - y_test) / X_test.shape[0]) for z, x in zip(z_list, x_list)])\n",
    "value_function = np.array([np.linalg.norm(X_test @ z - y_test)**2/X_test.shape[0] for z in z_star_list])"
   ]
  },
  {
   "cell_type": "code",
   "execution_count": 6,
   "metadata": {},
   "outputs": [],
   "source": [
    "rng = check_random_state(2442)\n",
    "n_inner_step = 10\n",
    "n_v_step = 10\n",
    "z_list_amigo, v_list_amigo, x_list_amigo = amigo(X_train, y_train, X_test, y_test, z0=rng.randn(n_features),\n",
    "                              v0=np.zeros(n_features), x0=np.log(rng.rand(n_features)), max_iter=max_iter,\n",
    "                              step_size_in=step_size_in, outer_ratio=outer_ratio, n_inner_step=n_inner_step,\n",
    "                              n_v_step=n_v_step)\n",
    "\n",
    "z_star_list_amigo = np.array([np.linalg.solve(H + np.diag(np.exp(x)), X_train.T.dot(y_train) / X_train.shape[0]) for x in x_list_amigo])\n",
    "v_star_list_amigo = np.array([np.linalg.solve(H + np.diag(np.exp(x)), X_test.T.dot(X_test@z - y_test) / X_test.shape[0]) for z, x in zip(z_list_amigo, x_list_amigo)])\n",
    "value_function_amigo = np.array([np.linalg.norm(X_test @ z - y_test)**2/X_test.shape[0] for z in z_star_list_amigo])"
   ]
  },
  {
   "cell_type": "code",
   "execution_count": 7,
   "metadata": {},
   "outputs": [],
   "source": [
    "rng = check_random_state(2442)\n",
    "z_list_a_max, v_list_a_max, x_list_a_max = soba(X_train, y_train, X_test, y_test, z0=rng.randn(n_features),\n",
    "                              v0=np.zeros(n_features), x0=np.log(rng.rand(n_features)), max_iter=max_iter,\n",
    "                              step_size_in=step_size_in, outer_ratio=outer_ratio, adaptative_step_size=2)\n",
    "\n",
    "z_star_list_a_max = np.array([np.linalg.solve(H + np.diag(np.exp(x)), X_train.T.dot(y_train) / X_train.shape[0]) for x in x_list_a_max])\n",
    "v_star_list_a_max = np.array([np.linalg.solve(H + np.diag(np.exp(x)), X_test.T.dot(X_test@z - y_test) / X_test.shape[0]) for z, x in zip(z_list_a_max, x_list_a_max)])\n",
    "value_function_a_max = np.array([np.linalg.norm(X_test @ z - y_test)**2/X_test.shape[0] for z in z_star_list_a_max])"
   ]
  },
  {
   "cell_type": "code",
   "execution_count": 8,
   "metadata": {},
   "outputs": [],
   "source": [
    "rng = check_random_state(2442)\n",
    "z_list_a, v_list_a, x_list_a = soba(X_train, y_train, X_test, y_test, z0=rng.randn(n_features),\n",
    "                              v0=np.zeros(n_features), x0=np.log(rng.rand(n_features)), max_iter=max_iter,\n",
    "                              step_size_in=step_size_in, outer_ratio=outer_ratio, adaptative_step_size=1)\n",
    "\n",
    "z_star_list_a = np.array([np.linalg.solve(H + np.diag(np.exp(x)), X_train.T.dot(y_train) / X_train.shape[0]) for x in x_list_a])\n",
    "v_star_list_a = np.array([np.linalg.solve(H + np.diag(np.exp(x)), X_test.T.dot(X_test@z - y_test) / X_test.shape[0]) for z, x in zip(z_list_a, x_list_a)])\n",
    "value_function_a = np.array([np.linalg.norm(X_test @ z - y_test)**2/X_test.shape[0] for z in z_star_list_a])"
   ]
  },
  {
   "cell_type": "code",
   "execution_count": 9,
   "metadata": {},
   "outputs": [],
   "source": [
    "def h(x, X_train, y_train, X_test, y_test):\n",
    "    n_train, n_features = X_train.shape\n",
    "    n_test = X_test.shape[0]\n",
    "    z_star  = np.linalg.solve(X_train.T.dot(X_train)/n_train + np.diag(np.exp(x)), X_train.T.dot(y_train) / n_train)\n",
    "    return .5 * np.linalg.norm(X_test @ z_star - y_test) / n_test"
   ]
  },
  {
   "cell_type": "code",
   "execution_count": 10,
   "metadata": {},
   "outputs": [],
   "source": [
    "plt.figure()\n",
    "# plt.semilogy(np.linalg.norm(z_list - z_star_list, axis=1), label=\"SOBA, constant step size\")\n",
    "plt.semilogy(np.linalg.norm(z_list_a_max - z_star_list_a_max, axis=1), label=r\"SOBA, step size : $\\frac{1}{L+\\|e^x\\|_\\infty}$\")\n",
    "plt.semilogy(np.linalg.norm(z_list_a - z_star_list_a, axis=1), label=r\"SOBA, step size : $\\frac{1}{L+e^x}$ \")\n",
    "plt.semilogy(np.linalg.norm(z_list_amigo - z_star_list_amigo, axis=1), label=r\"Amigo, constant step size\")\n",
    "plt.xlabel(\"Iterations\")\n",
    "plt.ylabel(r\"$\\|z^t-z^*(x^t)\\|$\")\n",
    "plt.legend()\n",
    "plt.tight_layout()\n",
    "plt.show()"
   ]
  },
  {
   "cell_type": "code",
   "execution_count": 11,
   "metadata": {},
   "outputs": [],
   "source": [
    "plt.figure()\n",
    "# plt.semilogy(np.linalg.norm(v_list - v_star_list, axis=1), label=\"SOBA, constant step size\")\n",
    "plt.semilogy(np.linalg.norm(v_list_a - v_star_list_a, axis=1), label=r\"SOBA, step size : $\\frac{1}{L+\\|e^x\\|_\\infty}$\")\n",
    "plt.semilogy(np.linalg.norm(v_list_a_max - v_star_list_a_max, axis=1), label=r\"SOBA, step size : $\\frac{1}{L+e^x}$\")\n",
    "plt.semilogy(np.linalg.norm(v_list_amigo - v_star_list_amigo, axis=1), label=r\"Amigo, constant step size\")\n",
    "plt.xlabel(\"Iterations\")\n",
    "plt.ylabel(r\"$\\|v^t-v^*(x^t)\\|$\")\n",
    "plt.legend()\n",
    "plt.tight_layout()\n",
    "plt.show()"
   ]
  },
  {
   "cell_type": "code",
   "execution_count": 12,
   "metadata": {},
   "outputs": [],
   "source": [
    "plt.figure()\n",
    "plt.semilogy(value_function, label=\"SOBA, constant step size\", linewidth=2)\n",
    "plt.semilogy(value_function_a, label=r\"SOBA, step size : $\\frac{1}{L+\\|e^x\\|_\\infty}$\", linewidth=2)\n",
    "plt.semilogy(value_function_a_max, label=r\"SOBA, step size : $\\frac{1}{L+e^x}$\", linewidth=2)\n",
    "plt.semilogy(value_function_amigo, label=r\"Amigo, constant step size\", linewidth=2)\n",
    "plt.xlabel(\"Iterations\")\n",
    "plt.ylabel(\"Value function\")\n",
    "plt.legend()\n",
    "plt.tight_layout()\n",
    "plt.show()"
   ]
  },
  {
   "cell_type": "code",
   "execution_count": 13,
   "metadata": {},
   "outputs": [],
   "source": [
    "plt.figure()\n",
    "plt.plot(x_list[:52000, 0], x_list[:52000, 1], label=\"SOBA, constant step size\", linewidth=2)\n",
    "plt.plot(x_list_a[:, 0], x_list_a[:, 1], label=r\"SOBA, step size : $\\frac{1}{L+\\|e^x\\|_\\infty}$\", linewidth=2)\n",
    "plt.plot(x_list_a_max[:, 0], x_list_a_max[:, 1], label=r\"SOBA, step size : $\\frac{1}{L+e^x}$\", linewidth=2)\n",
    "plt.plot(x_list_amigo[:, 0], x_list_amigo[:, 1], label=r\"Amigo, constant step size\", linewidth=2)\n",
    "\n",
    "plt.xlabel(r\"$x_0$\")\n",
    "plt.ylabel(r\"$x_1$\")\n",
    "plt.legend()\n",
    "plt.tight_layout()\n",
    "plt.show()"
   ]
  },
  {
   "cell_type": "code",
   "execution_count": 14,
   "metadata": {},
   "outputs": [],
   "source": [
    "alphas = [.25, .5, .9, 1]\n",
    "max_iter = 100_000\n",
    "z_list = np.zeros((len(alphas), max_iter, 2))\n",
    "v_list = np.zeros((len(alphas), max_iter, 2))\n",
    "x_list = np.zeros((len(alphas), max_iter, 2))\n",
    "z_star_list = np.zeros((len(alphas), max_iter, 2))\n",
    "v_star_list = np.zeros((len(alphas), max_iter, 2))\n",
    "value_function = np.zeros((len(alphas), max_iter))\n",
    "\n",
    "z_list_max = np.zeros((len(alphas), max_iter, 2))\n",
    "v_list_max = np.zeros((len(alphas), max_iter, 2))\n",
    "x_list_max = np.zeros((len(alphas), max_iter, 2))\n",
    "z_star_list_max = np.zeros((len(alphas), max_iter, 2))\n",
    "v_star_list_max = np.zeros((len(alphas), max_iter, 2))\n",
    "value_function_max = np.zeros((len(alphas), max_iter))\n",
    "\n",
    "for i, alpha in enumerate(alphas):\n",
    "    z_list[i], v_list[i], x_list[i] = soba(X_train, y_train, X_test, y_test, z0=rng.randn(n_features),\n",
    "                                v0=np.zeros(n_features), x0=np.log(rng.rand(n_features)), max_iter=max_iter,\n",
    "                                step_size_in=step_size_in, outer_ratio=outer_ratio, adaptative_step_size=2)\n",
    "    z_star_list[i] = np.array([np.linalg.solve(H + np.diag(np.exp(x)), X_train.T.dot(y_train) / X_train.shape[0]) for x in x_list[i]])\n",
    "    v_star_list[i] = np.array([np.linalg.solve(H + np.diag(np.exp(x)), X_test.T.dot(X_test@z - y_test) / X_test.shape[0]) for z, x in zip(z_list[i], x_list[i])])\n",
    "    value_function[i] = np.array([np.linalg.norm(X_test @ z - y_test)**2/X_test.shape[0] for z in z_star_list[i]])\n",
    "\n",
    "    z_list_max[i], v_list_max[i], x_list_max[i] = soba(X_train, y_train, X_test, y_test, z0=rng.randn(n_features),\n",
    "                            v0=np.zeros(n_features), x0=np.log(rng.rand(n_features)), max_iter=max_iter,\n",
    "                            step_size_in=step_size_in, outer_ratio=outer_ratio, adaptative_step_size=1)\n",
    "\n",
    "    z_star_list_max[i] = np.array([np.linalg.solve(H + np.diag(np.exp(x)), X_train.T.dot(y_train) / X_train.shape[0]) for x in x_list_max[i]])\n",
    "    v_star_list_max[i] = np.array([np.linalg.solve(H + np.diag(np.exp(x)), X_test.T.dot(X_test@z - y_test) / X_test.shape[0]) for z, x in zip(z_list_max[i], x_list_max[i])])\n",
    "    value_function_max[i] = np.array([np.linalg.norm(X_test @ z - y_test)**2/X_test.shape[0] for z in z_star_list_max[i]])"
   ]
  },
  {
   "cell_type": "code",
   "execution_count": 15,
   "metadata": {},
   "outputs": [],
   "source": [
    "m = min(value_function.min(), value_function_max.min())\n",
    "# m = 0\n",
    "plt.figure()\n",
    "for i,alpha in enumerate(alphas):    \n",
    "    plt.loglog(value_function[i] - m, '-', label=rf\"SOBA, step size : $\\frac{{{alpha}}}{{L+e^x}}$\", linewidth=2)\n",
    "    # plt.loglog(value_function_max[i] - m, '--', label=rf\"SOBA, step size : $\\frac{{{alpha}}}{{L+\\|e^x\\|_\\infty}}$\", linewidth=2)\n",
    "plt.xlabel(\"Iterations\")\n",
    "plt.ylabel(rf\"$h(x^t) - h^*$\")\n",
    "plt.legend()\n",
    "plt.tight_layout()\n",
    "plt.show()"
   ]
  },
  {
   "cell_type": "code",
   "execution_count": 16,
   "metadata": {},
   "outputs": [],
   "source": [
    "plt.figure()\n",
    "for i,alpha in enumerate(alphas):    \n",
    "    plt.semilogy(np.linalg.norm(z_list[i] - z_star_list[i], axis=1) , '-', label=rf\"SOBA, step size : $\\frac{{{alpha}}}{{L+e^x}}$\", linewidth=2)\n",
    "    # plt.semilogy(np.linalg.norm(z_list_max[i] - z_star_list_max[i], axis=1), '--', label=rf\"SOBA, step size : $\\frac{{{alpha}}}{{L+\\|e^x\\|_\\infty}}$\", linewidth=2)\n",
    "plt.xlabel(\"Iterations\")\n",
    "plt.ylabel(r\"$\\|z^t-z^*(x^t)\\|$\")\n",
    "plt.legend()\n",
    "plt.tight_layout()\n",
    "plt.show()"
   ]
  }
 ],
 "metadata": {
  "interpreter": {
   "hash": "8fad1e0672a81e34204bc1ad0008c01ba530fc8c80b78f7627b95d09d51f77fe"
  },
  "kernelspec": {
   "display_name": "Python 3.8.8 ('base')",
   "language": "python",
   "name": "python3"
  },
  "language_info": {
   "codemirror_mode": {
    "name": "ipython",
    "version": 3
   },
   "file_extension": ".py",
   "mimetype": "text/x-python",
   "name": "python",
   "nbconvert_exporter": "python",
   "pygments_lexer": "ipython3",
   "version": "3.8.8"
  },
  "orig_nbformat": 4
 },
 "nbformat": 4,
 "nbformat_minor": 2
}
